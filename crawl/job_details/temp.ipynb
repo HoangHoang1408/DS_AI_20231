{
 "cells": [
  {
   "cell_type": "code",
   "execution_count": 1,
   "metadata": {},
   "outputs": [],
   "source": [
    "from glob import glob\n",
    "from datasets import Dataset\n",
    "import numpy as np\n",
    "import pandas as pd\n",
    "from pprint import pprint\n",
    "import os\n",
    "import json\n",
    "import time\n",
    "from googletrans import Translator"
   ]
  },
  {
   "cell_type": "code",
   "execution_count": 20,
   "metadata": {},
   "outputs": [
    {
     "name": "stdout",
     "output_type": "stream",
     "text": [
      "917\n"
     ]
    },
    {
     "data": {
      "application/vnd.jupyter.widget-view+json": {
       "model_id": "e2b7e2f816c34f759d42d5eb1a607434",
       "version_major": 2,
       "version_minor": 0
      },
      "text/plain": [
       "Filter:   0%|          | 0/9170 [00:00<?, ? examples/s]"
      ]
     },
     "metadata": {},
     "output_type": "display_data"
    }
   ],
   "source": [
    "paths = glob(\"./data_*.json\") + glob(\"../failed_job_details/data_*.json\")\n",
    "print(len(paths))\n",
    "ds = []\n",
    "for path in paths:\n",
    "    with open(path, \"r\") as f:\n",
    "        ds.extend(json.load(f))\n",
    "ds = Dataset.from_list(ds)\n",
    "ds = ds.filter(lambda x: x[\"error\"] == False)"
   ]
  },
  {
   "cell_type": "code",
   "execution_count": 22,
   "metadata": {},
   "outputs": [],
   "source": [
    "translator = Translator()\n",
    "\n",
    "def translate_text(text, sleep_time=2):\n",
    "    if text in [\"\"] or text is None:\n",
    "        return \"\"\n",
    "    while True:\n",
    "        try:\n",
    "            return translator.translate(text, dest=\"vi\").text\n",
    "        except Exception() as e:\n",
    "            print(\"Requests error\")\n",
    "            time.sleep(sleep_time)"
   ]
  },
  {
   "cell_type": "code",
   "execution_count": 23,
   "metadata": {},
   "outputs": [
    {
     "data": {
      "application/vnd.jupyter.widget-view+json": {
       "model_id": "f2bfd6b00b1640fdac4cce0c944fbc0f",
       "version_major": 2,
       "version_minor": 0
      },
      "text/plain": [
       "Map:   0%|          | 0/7184 [00:00<?, ? examples/s]"
      ]
     },
     "metadata": {},
     "output_type": "display_data"
    },
    {
     "name": "stderr",
     "output_type": "stream",
     "text": [
      "Parameter 'function'=<function mapper at 0x14c247ac0> of the transform datasets.arrow_dataset.Dataset._map_single couldn't be hashed properly, a random hash was used instead. Make sure your transforms and parameters are serializable with pickle or dill for the dataset fingerprinting and caching to work. If you reuse this transform, the caching mechanism will consider it to be different from the previous calls and recompute everything. This warning is only showed once. Subsequent hashing failures won't be showed.\n"
     ]
    },
    {
     "data": {
      "application/vnd.jupyter.widget-view+json": {
       "model_id": "0b64a1b69a7f4b0f97529322d58a5aef",
       "version_major": 2,
       "version_minor": 0
      },
      "text/plain": [
       "Map:   0%|          | 0/7184 [00:00<?, ? examples/s]"
      ]
     },
     "metadata": {},
     "output_type": "display_data"
    },
    {
     "data": {
      "application/vnd.jupyter.widget-view+json": {
       "model_id": "c366a6e3fbd84577884ee98660f3237b",
       "version_major": 2,
       "version_minor": 0
      },
      "text/plain": [
       "Creating json from Arrow format:   0%|          | 0/8 [00:00<?, ?ba/s]"
      ]
     },
     "metadata": {},
     "output_type": "display_data"
    },
    {
     "data": {
      "text/plain": [
       "Dataset({\n",
       "    features: ['vi_tri_viec', 'ten_cong_ty', 'dia_diem_lam_viec', 'ngay_cap_nhat', 'nganh_nghe', 'hinh_thuc', 'luong', 'cap_bac', 'het_han_nop', 'dia_chi_cong_ty', 'loai_hinh_hoat_dong', 'quy_mo_cong_ty', 'num_followers', 'min_exp', 'max_exp'],\n",
       "    num_rows: 7184\n",
       "})"
      ]
     },
     "execution_count": 23,
     "metadata": {},
     "output_type": "execute_result"
    }
   ],
   "source": [
    "def mapper(x):\n",
    "    temp = x[\"company_info\"].split(\"\\n\")\n",
    "    company_address, loai_hinh, quy_mo, num_followers = None, None, None, None\n",
    "    for t in temp:\n",
    "        if \"Địa điểm\" in t:\n",
    "            company_address = t[len(\"Địa điểm\") :].strip()\n",
    "        elif \"Loại hình hoạt động:\" in t:\n",
    "            loai_hinh = t[len(\"Loại hình hoạt động:\") :].strip()\n",
    "        elif \"Qui mô công ty:\" in t:\n",
    "            quy_mo = t[len(\"Qui mô công ty:\") :].strip()\n",
    "        elif \"followers\" in t:\n",
    "            num_followers = t[: t.index(\"followers\")].strip()\n",
    "            if num_followers == \"\":\n",
    "                num_followers = None\n",
    "            else:\n",
    "                num_followers = num_followers.replace(\",\", \"\").replace(\".\", \"\")\n",
    "                num_followers = int(num_followers)\n",
    "    x[\"Ngành nghề\"] = [t.strip() for t in x[\"Ngành nghề\"].split(\",\")]\n",
    "    experience = x[\"Kinh nghiệm\"]\n",
    "    min_exp, max_exp = 0, 30\n",
    "    if experience is not None:\n",
    "        if \"-\" in experience:\n",
    "            words = experience.split(\" \")\n",
    "            min_exp = words[0]\n",
    "            max_exp = words[2]\n",
    "        elif \"Trên\" in experience:\n",
    "            min_exp = experience.split(\" \")[1]\n",
    "        try:\n",
    "            min_exp = int(min_exp)\n",
    "            max_exp = int(max_exp)\n",
    "        except:\n",
    "            min_exp, max_exp = 0, 30\n",
    "    return {\n",
    "        **x,\n",
    "        \"dia_chi_cong_ty\": company_address,\n",
    "        \"loai_hinh_hoat_dong\": loai_hinh,\n",
    "        \"quy_mo_cong_ty\": quy_mo,\n",
    "        \"num_followers\": num_followers,\n",
    "        \"min_exp\": min_exp,\n",
    "        \"max_exp\": max_exp,\n",
    "        \"Hình thức\": [t.strip() for t in x[\"Hình thức\"].split(\",\")],\n",
    "    }\n",
    "\n",
    "\n",
    "ds = ds.map(mapper).select_columns(\n",
    "    [\n",
    "        \"Ngành nghề\",\n",
    "        \"Cấp bậc\",\n",
    "        \"Lương\",\n",
    "        \"vi_tri_viec\",\n",
    "        \"min_exp\",\n",
    "        \"max_exp\",\n",
    "        \"Địa điểm\",\n",
    "        \"ten_cong_ty\",\n",
    "        \"dia_chi_cong_ty\",\n",
    "        \"loai_hinh_hoat_dong\",\n",
    "        \"Hình thức\",\n",
    "        \"quy_mo_cong_ty\",\n",
    "        \"Ngày cập nhật\",\n",
    "        \"Hết hạn nộp\",\n",
    "        \"num_followers\",\n",
    "    ]\n",
    ")\n",
    "ds = ds.rename_columns({\n",
    "    'Ngành nghề': 'nganh_nghe',\n",
    "    'Cấp bậc': 'cap_bac',\n",
    "    'Lương': 'luong',\n",
    "    'Địa điểm': 'dia_diem_lam_viec',\n",
    "    'Hình thức': 'hinh_thuc',\n",
    "    'Ngày cập nhật': 'ngay_cap_nhat',\n",
    "    'Hết hạn nộp': 'het_han_nop',\n",
    "})\n",
    "def mapper(x):\n",
    "    x['vi_tri_viec'] = translate_text(x['vi_tri_viec'])\n",
    "    return x\n",
    "ds = ds.map(mapper)\n",
    "ds.to_json(\"../final/final_dataset.jsonl\", orient=\"records\", lines=True, force_ascii=False)\n",
    "ds"
   ]
  },
  {
   "cell_type": "code",
   "execution_count": 24,
   "metadata": {},
   "outputs": [
    {
     "data": {
      "application/vnd.jupyter.widget-view+json": {
       "model_id": "0f7272b0bce443928b2823df14bbefa3",
       "version_major": 2,
       "version_minor": 0
      },
      "text/plain": [
       "Creating json from Arrow format:   0%|          | 0/8 [00:00<?, ?ba/s]"
      ]
     },
     "metadata": {},
     "output_type": "display_data"
    },
    {
     "data": {
      "text/plain": [
       "4364607"
      ]
     },
     "execution_count": 24,
     "metadata": {},
     "output_type": "execute_result"
    }
   ],
   "source": [
    "ds.to_json(\n",
    "    \"../final/final_dataset.jsonl\", orient=\"records\", lines=True, force_ascii=False\n",
    ")"
   ]
  },
  {
   "cell_type": "code",
   "execution_count": 25,
   "metadata": {},
   "outputs": [
    {
     "data": {
      "text/plain": [
       "(4274, 15)"
      ]
     },
     "execution_count": 25,
     "metadata": {},
     "output_type": "execute_result"
    }
   ],
   "source": [
    "df = ds.to_pandas()\n",
    "df[~df['luong'].isin(['Cạnh tranh', 'Thỏa thuận'])].shape"
   ]
  },
  {
   "cell_type": "markdown",
   "metadata": {},
   "source": []
  },
  {
   "cell_type": "code",
   "execution_count": 787,
   "metadata": {},
   "outputs": [
    {
     "data": {
      "text/plain": [
       "Nhân viên                   3452\n",
       "Trưởng nhóm / Giám sát       500\n",
       "Quản lý                      499\n",
       "Giám đốc                      91\n",
       "Sinh viên/ Thực tập sinh      69\n",
       "Mới tốt nghiệp                48\n",
       "Phó Giám đốc                  19\n",
       "Tổng giám đốc                  1\n",
       "Name: cap_bac, dtype: int64"
      ]
     },
     "execution_count": 787,
     "metadata": {},
     "output_type": "execute_result"
    }
   ],
   "source": [
    "df['cap_bac'].value_counts()"
   ]
  },
  {
   "cell_type": "code",
   "execution_count": 788,
   "metadata": {},
   "outputs": [
    {
     "data": {
      "text/plain": [
       "Ngân Hàng TMCP Việt Nam Thịnh Vượng - VPBANK     101\n",
       "Ngân Hàng TMCP Quân Đội                           82\n",
       "Ngân Hàng TMCP Sài Gòn - Hà Nội ( SHB )           58\n",
       "LPBank                                            57\n",
       "Công Ty CP Giáo Dục Đại Dương                     55\n",
       "                                                ... \n",
       "Công ty Cổ phần Cổ phần May Minh Anh Thọ Xuân      1\n",
       "PeopleWise Vietnam                                 1\n",
       "Công ty TNHH Luki Việt Nam                         1\n",
       "H. Nicholas & Co Joint Stock Company               1\n",
       "PG Group - Công ty Cổ phần PG Ads                  1\n",
       "Name: ten_cong_ty, Length: 1627, dtype: int64"
      ]
     },
     "execution_count": 788,
     "metadata": {},
     "output_type": "execute_result"
    }
   ],
   "source": [
    "df['ten_cong_ty'].value_counts()"
   ]
  },
  {
   "cell_type": "code",
   "execution_count": 789,
   "metadata": {},
   "outputs": [
    {
     "data": {
      "text/plain": [
       "Cổ phần                2359\n",
       "Trách nhiệm hữu hạn    1289\n",
       "100% vốn nước ngoài     470\n",
       "Công ty đa quốc gia     105\n",
       "Cá nhân                  76\n",
       "Liên doanh               47\n",
       "Nhà nước                  8\n",
       "Name: loai_hinh_hoat_dong, dtype: int64"
      ]
     },
     "execution_count": 789,
     "metadata": {},
     "output_type": "execute_result"
    }
   ],
   "source": [
    "df['loai_hinh_hoat_dong'].value_counts()"
   ]
  },
  {
   "cell_type": "code",
   "execution_count": 790,
   "metadata": {},
   "outputs": [
    {
     "data": {
      "text/plain": [
       "Nhân viên chính thức    4579\n",
       "Thực tập                  77\n",
       "Bán thời gian             58\n",
       "Thời vụ/ Nghề tự do       46\n",
       "Name: hinh_thuc, dtype: int64"
      ]
     },
     "execution_count": 790,
     "metadata": {},
     "output_type": "execute_result"
    }
   ],
   "source": [
    "df['hinh_thuc'].explode().value_counts()"
   ]
  },
  {
   "cell_type": "code",
   "execution_count": null,
   "metadata": {},
   "outputs": [],
   "source": []
  }
 ],
 "metadata": {
  "kernelspec": {
   "display_name": "Python 3",
   "language": "python",
   "name": "python3"
  },
  "language_info": {
   "codemirror_mode": {
    "name": "ipython",
    "version": 3
   },
   "file_extension": ".py",
   "mimetype": "text/x-python",
   "name": "python",
   "nbconvert_exporter": "python",
   "pygments_lexer": "ipython3",
   "version": "3.10.7"
  }
 },
 "nbformat": 4,
 "nbformat_minor": 2
}
