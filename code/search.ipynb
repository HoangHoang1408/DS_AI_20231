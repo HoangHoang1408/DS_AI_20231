{
 "cells": [
  {
   "cell_type": "code",
   "execution_count": 1,
   "metadata": {},
   "outputs": [],
   "source": [
    "from glob import glob\n",
    "from datasets import Dataset\n",
    "import numpy as np\n",
    "import pandas as pd\n",
    "from pprint import pprint\n",
    "import os\n",
    "import json"
   ]
  },
  {
   "cell_type": "markdown",
   "metadata": {},
   "source": [
    "### Create training data"
   ]
  },
  {
   "cell_type": "code",
   "execution_count": 7,
   "metadata": {},
   "outputs": [
    {
     "data": {
      "text/plain": [
       "{'text': \"Việc làm Process Engineering Leader- Trưởng nhóm Kỹ sư Quy trình tại Công Ty TNHH L.S Pack. Địa điểm làm việc: Hồ Chí Minh. Ngành nghề: ['Cơ khí / Ô tô / Tự động hóa', 'Điện / Điện tử / Điện lạnh', 'Bảo trì / Sửa chữa']. Hình thức: ['Nhân viên chính thức']. Lương: 15 Tr - 25 Tr VND. Cấp bậc: Trưởng nhóm / Giám sát. Hết hạn nộp: 30/12/2023. Địa chỉ công ty: Lô A 2-2 Khu công nghiệp Tây Bắc Củ Chi, ấp Bàu Tre 2 - Xã Tân An Hội - Huyện Củ Chi - TP Hồ Chí Minh, Huyện Củ Chi, HCMC. Loại hình hoạt động: None. Quy mô công ty: 25-99. Kinh nghiệm: 1 - 3 năm.\"}"
      ]
     },
     "execution_count": 7,
     "metadata": {},
     "output_type": "execute_result"
    }
   ],
   "source": [
    "ds[0]"
   ]
  },
  {
   "cell_type": "code",
   "execution_count": 4,
   "metadata": {},
   "outputs": [],
   "source": [
    "ds = Dataset.from_json(\n",
    "    \"/Users/phamhoang1408/Desktop/20231/DS/ds_project/crawl/final/final_dataset.jsonl\"\n",
    ")\n",
    "TEMPLATE = \"\"\"Việc làm {vi_tri_viec} tại {ten_cong_ty}. Địa điểm làm việc: {dia_diem_lam_viec}. Ngành nghề: {nganh_nghe}. Hình thức: {hinh_thuc}. Lương: {luong}. Cấp bậc: {cap_bac}. Hết hạn nộp: {het_han_nop}. Địa chỉ công ty: {dia_chi_cong_ty}. Loại hình hoạt động: {loai_hinh_hoat_dong}. Quy mô công ty: {quy_mo_cong_ty}. Kinh nghiệm: {min_exp} - {max_exp} năm.\"\"\"\n",
    "\n",
    "ds = ds.map(\n",
    "    lambda x: {\n",
    "        \"text\": TEMPLATE.format(\n",
    "            vi_tri_viec=''x[\"vi_tri_viec\"],\n",
    "        )\n",
    "    }\n",
    ").select_columns([\"text\"])\n"
   ]
  },
  {
   "cell_type": "code",
   "execution_count": 5,
   "metadata": {},
   "outputs": [
    {
     "data": {
      "application/vnd.jupyter.widget-view+json": {
       "model_id": "352f6ce93fc34f28bf4b693c04dfcb7d",
       "version_major": 2,
       "version_minor": 0
      },
      "text/plain": [
       "Creating json from Arrow format:   0%|          | 0/8 [00:00<?, ?ba/s]"
      ]
     },
     "metadata": {},
     "output_type": "display_data"
    },
    {
     "data": {
      "text/plain": [
       "4194868"
      ]
     },
     "execution_count": 5,
     "metadata": {},
     "output_type": "execute_result"
    }
   ],
   "source": [
    "ds.to_json('../search_data/data.jsonl', force_ascii=False, orient='records', lines=True)"
   ]
  },
  {
   "cell_type": "code",
   "execution_count": null,
   "metadata": {},
   "outputs": [],
   "source": [
    "from torch.utils.data import DataLoader\n",
    "import math\n",
    "from sentence_transformers import models, losses\n",
    "from sentence_transformers import (\n",
    "    SentenceTransformer,\n",
    "    InputExample,\n",
    ")\n",
    "from datetime import datetime\n",
    "\n",
    "\n",
    "# Training parameters\n",
    "model_name = \"paraphrase-multilingual-mpnet-base-v2\"\n",
    "train_batch_size = 32\n",
    "num_epochs = 2\n",
    "max_seq_length = 128\n",
    "\n",
    "# Save path to store our model\n",
    "model_save_path = \"output/training_stsb_simcse-{}-{}-{}\".format(\n",
    "    model_name, train_batch_size, datetime.now().strftime(\"%Y-%m-%d_%H-%M-%S\")\n",
    ")\n",
    "\n",
    "\n",
    "# Here we define our SentenceTransformer model\n",
    "word_embedding_model = models.Transformer(model_name, max_seq_length=max_seq_length)\n",
    "pooling_model = models.Pooling(word_embedding_model.get_word_embedding_dimension())\n",
    "model = SentenceTransformer(modules=[word_embedding_model, pooling_model])\n",
    "\n",
    "\n",
    "# train_samples is a list of InputExample objects where we pass the same sentence twice to texts, i.e. texts=[sent, sent]\n",
    "train_samples = []\n",
    "for line in ds[\"text\"]:\n",
    "    train_samples.append(InputExample(texts=[line, line]))\n",
    "\n",
    "\n",
    "# We train our model using the MultipleNegativesRankingLoss\n",
    "train_dataloader = DataLoader(\n",
    "    train_samples, shuffle=True, batch_size=train_batch_size, drop_last=True\n",
    ")\n",
    "train_loss = losses.MultipleNegativesRankingLoss(model)\n",
    "\n",
    "warmup_steps = math.ceil(\n",
    "    len(train_dataloader) * num_epochs * 0.1\n",
    ")\n",
    "# Train the model\n",
    "model.fit(\n",
    "    train_objectives=[(train_dataloader, train_loss)],\n",
    "    epochs=num_epochs,\n",
    "    warmup_steps=warmup_steps,\n",
    "    output_path=model_save_path,\n",
    "    optimizer_params={\"lr\": 5e-5},\n",
    ")\n",
    "\n",
    "\n",
    "model = SentenceTransformer(model_save_path)"
   ]
  },
  {
   "cell_type": "code",
   "execution_count": 8,
   "metadata": {},
   "outputs": [
    {
     "data": {
      "text/plain": [
       "\"{'a': 1, 'b': 2}\""
      ]
     },
     "execution_count": 8,
     "metadata": {},
     "output_type": "execute_result"
    }
   ],
   "source": [
    "str({\n",
    "    'a': 1,\n",
    "    'b': 2\n",
    "})"
   ]
  },
  {
   "cell_type": "code",
   "execution_count": null,
   "metadata": {},
   "outputs": [],
   "source": []
  }
 ],
 "metadata": {
  "kernelspec": {
   "display_name": "Python 3",
   "language": "python",
   "name": "python3"
  },
  "language_info": {
   "codemirror_mode": {
    "name": "ipython",
    "version": 3
   },
   "file_extension": ".py",
   "mimetype": "text/x-python",
   "name": "python",
   "nbconvert_exporter": "python",
   "pygments_lexer": "ipython3",
   "version": "3.10.7"
  }
 },
 "nbformat": 4,
 "nbformat_minor": 2
}
